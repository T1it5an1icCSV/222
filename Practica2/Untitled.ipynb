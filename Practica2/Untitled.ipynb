{
 "cells": [
  {
   "cell_type": "markdown",
   "id": "6b8f06c6-acf2-4990-bd36-4834f2676bd3",
   "metadata": {},
   "source": [
    "# Практическая работа №2 Преобразование данных"
   ]
  },
  {
   "cell_type": "markdown",
   "id": "190b11bb-97bf-4477-be7d-c6e5371b0fdf",
   "metadata": {},
   "source": [
    "выполнил студент группы \n",
    "Т50-11-23\n",
    "Шаймарданов Ренат"
   ]
  },
  {
   "cell_type": "markdown",
   "id": "988e5963-c22b-46b6-b2d7-8e37155e4a1e",
   "metadata": {},
   "source": [
    "***Цель работы:*** Закодировать и преобразовать признаки."
   ]
  },
  {
   "cell_type": "markdown",
   "id": "f21a33fb-45a0-4da4-9e3e-e2f313fdecdb",
   "metadata": {},
   "source": [
    "***Ход работы:***"
   ]
  },
  {
   "cell_type": "code",
   "execution_count": 21,
   "id": "095d5c87-9f84-4fd1-85c4-0dc112f0fbb0",
   "metadata": {},
   "outputs": [
    {
     "name": "stdout",
     "output_type": "stream",
     "text": [
      "OrdinalEncoder:\n",
      "    Passengerid   Age     Fare  Sex  sibsp  zero  zero.1  zero.2  zero.3  \\\n",
      "0            1  22.0   7.2500  0.0      1     0       0       0       0   \n",
      "1            2  38.0  71.2833  1.0      1     0       0       0       0   \n",
      "2            3  26.0   7.9250  1.0      0     0       0       0       0   \n",
      "3            4  35.0  53.1000  1.0      1     0       0       0       0   \n",
      "4            5  35.0   8.0500  0.0      0     0       0       0       0   \n",
      "\n",
      "   zero.4  ...  zero.12  zero.13  zero.14  Pclass  zero.15  zero.16  Embarked  \\\n",
      "0       0  ...        0        0        0       3        0        0       2.0   \n",
      "1       0  ...        0        0        0       1        0        0       0.0   \n",
      "2       0  ...        0        0        0       3        0        0       2.0   \n",
      "3       0  ...        0        0        0       1        0        0       2.0   \n",
      "4       0  ...        0        0        0       3        0        0       2.0   \n",
      "\n",
      "   zero.17  zero.18  2urvived  \n",
      "0        0        0         0  \n",
      "1        0        0         1  \n",
      "2        0        0         1  \n",
      "3        0        0         1  \n",
      "4        0        0         0  \n",
      "\n",
      "[5 rows x 28 columns]\n",
      "\n",
      "LabelEncoder:\n",
      "    Passengerid   Age     Fare  Sex  sibsp  zero  zero.1  zero.2  zero.3  \\\n",
      "0            1  22.0   7.2500    0      1     0       0       0       0   \n",
      "1            2  38.0  71.2833    1      1     0       0       0       0   \n",
      "2            3  26.0   7.9250    1      0     0       0       0       0   \n",
      "3            4  35.0  53.1000    1      1     0       0       0       0   \n",
      "4            5  35.0   8.0500    0      0     0       0       0       0   \n",
      "\n",
      "   zero.4  ...  zero.12  zero.13  zero.14  Pclass  zero.15  zero.16  Embarked  \\\n",
      "0       0  ...        0        0        0       3        0        0       2.0   \n",
      "1       0  ...        0        0        0       1        0        0       0.0   \n",
      "2       0  ...        0        0        0       3        0        0       2.0   \n",
      "3       0  ...        0        0        0       1        0        0       2.0   \n",
      "4       0  ...        0        0        0       3        0        0       2.0   \n",
      "\n",
      "   zero.17  zero.18  2urvived  \n",
      "0        0        0         0  \n",
      "1        0        0         1  \n",
      "2        0        0         1  \n",
      "3        0        0         1  \n",
      "4        0        0         0  \n",
      "\n",
      "[5 rows x 28 columns]\n",
      "\n",
      "OneHotEncoder:\n",
      " [[1. 0. 0. 0. 1. 0.]\n",
      " [0. 1. 1. 0. 0. 0.]\n",
      " [0. 1. 0. 0. 1. 0.]\n",
      " [0. 1. 0. 0. 1. 0.]\n",
      " [1. 0. 0. 0. 1. 0.]]\n",
      "\n",
      "StandardScaler:\n",
      "    Passengerid       Age      Fare  Sex  sibsp  zero  zero.1  zero.2  zero.3  \\\n",
      "0            1 -0.581628 -0.503291    0      1     0       0       0       0   \n",
      "1            2  0.658652  0.734744    1      1     0       0       0       0   \n",
      "2            3 -0.271558 -0.490240    1      0     0       0       0       0   \n",
      "3            4  0.426099  0.383183    1      1     0       0       0       0   \n",
      "4            5  0.426099 -0.487824    0      0     0       0       0       0   \n",
      "\n",
      "   zero.4  ...  zero.12  zero.13  zero.14  Pclass  zero.15  zero.16  Embarked  \\\n",
      "0       0  ...        0        0        0       3        0        0       2.0   \n",
      "1       0  ...        0        0        0       1        0        0       0.0   \n",
      "2       0  ...        0        0        0       3        0        0       2.0   \n",
      "3       0  ...        0        0        0       1        0        0       2.0   \n",
      "4       0  ...        0        0        0       3        0        0       2.0   \n",
      "\n",
      "   zero.17  zero.18  2urvived  \n",
      "0        0        0         0  \n",
      "1        0        0         1  \n",
      "2        0        0         1  \n",
      "3        0        0         1  \n",
      "4        0        0         0  \n",
      "\n",
      "[5 rows x 28 columns]\n",
      "\n",
      "MinMaxScaler:\n",
      "    Passengerid       Age      Fare  Sex  sibsp  zero  zero.1  zero.2  zero.3  \\\n",
      "0            1  0.273456  0.014151    0      1     0       0       0       0   \n",
      "1            2  0.473882  0.139136    1      1     0       0       0       0   \n",
      "2            3  0.323563  0.015469    1      0     0       0       0       0   \n",
      "3            4  0.436302  0.103644    1      1     0       0       0       0   \n",
      "4            5  0.436302  0.015713    0      0     0       0       0       0   \n",
      "\n",
      "   zero.4  ...  zero.12  zero.13  zero.14  Pclass  zero.15  zero.16  Embarked  \\\n",
      "0       0  ...        0        0        0       3        0        0       2.0   \n",
      "1       0  ...        0        0        0       1        0        0       0.0   \n",
      "2       0  ...        0        0        0       3        0        0       2.0   \n",
      "3       0  ...        0        0        0       1        0        0       2.0   \n",
      "4       0  ...        0        0        0       3        0        0       2.0   \n",
      "\n",
      "   zero.17  zero.18  2urvived  \n",
      "0        0        0         0  \n",
      "1        0        0         1  \n",
      "2        0        0         1  \n",
      "3        0        0         1  \n",
      "4        0        0         0  \n",
      "\n",
      "[5 rows x 28 columns]\n",
      "\n",
      "Normalizer:\n",
      "    Passengerid       Age      Fare  Sex  sibsp  zero  zero.1  zero.2  zero.3  \\\n",
      "0            1  0.949757  0.312988    0      1     0       0       0       0   \n",
      "1            2  0.470417  0.882444    1      1     0       0       0       0   \n",
      "2            3  0.956551  0.291564    1      0     0       0       0       0   \n",
      "3            4  0.550338  0.834942    1      1     0       0       0       0   \n",
      "4            5  0.974555  0.224148    0      0     0       0       0       0   \n",
      "\n",
      "   zero.4  ...  zero.12  zero.13  zero.14  Pclass  zero.15  zero.16  Embarked  \\\n",
      "0       0  ...        0        0        0       3        0        0       2.0   \n",
      "1       0  ...        0        0        0       1        0        0       0.0   \n",
      "2       0  ...        0        0        0       3        0        0       2.0   \n",
      "3       0  ...        0        0        0       1        0        0       2.0   \n",
      "4       0  ...        0        0        0       3        0        0       2.0   \n",
      "\n",
      "   zero.17  zero.18  2urvived  \n",
      "0        0        0         0  \n",
      "1        0        0         1  \n",
      "2        0        0         1  \n",
      "3        0        0         1  \n",
      "4        0        0         0  \n",
      "\n",
      "[5 rows x 28 columns]\n"
     ]
    }
   ],
   "source": [
    "# Осуществить импорт необходимых библиотек\n",
    "import pandas as pd\n",
    "from sklearn.preprocessing import OrdinalEncoder, LabelEncoder, OneHotEncoder, StandardScaler, MinMaxScaler, Normalizer\n",
    "\n",
    "# Загрузка данных\n",
    "df = pd.read_csv('train_and_test2.csv')\n"
   ]
  },
  {
   "cell_type": "markdown",
   "id": "e2db370b-8942-44bd-92a7-92f469bca5c8",
   "metadata": {},
   "source": [
    "##### Закодировать категориальные данные через OrdinalEncoder;"
   ]
  },
  {
   "cell_type": "code",
   "execution_count": null,
   "id": "953a82ed-c927-4798-9f73-d92b730ea4d1",
   "metadata": {},
   "outputs": [],
   "source": [
    "# -Закодируем \"Sex\" и \"Embarked\"\n",
    "ordinal_encoder = OrdinalEncoder()\n",
    "df_encoded_ordinal = df.copy()\n",
    "df_encoded_ordinal[['Sex', 'Embarked']] = ordinal_encoder.fit_transform(df_encoded_ordinal[['Sex', 'Embarked']])\n",
    "print(\"OrdinalEncoder:\\n\", df_encoded_ordinal.head())"
   ]
  },
  {
   "cell_type": "markdown",
   "id": "5958a0f0-8703-41d4-8f00-36c10f6c1840",
   "metadata": {},
   "source": [
    "##### Закодировать категориальную метку через LabelEncoder;"
   ]
  },
  {
   "cell_type": "code",
   "execution_count": null,
   "id": "fed8e600-71a2-44ce-b0b4-420236b1d055",
   "metadata": {},
   "outputs": [],
   "source": [
    "# -Закодируем \"Survived\" \n",
    "label_encoder = LabelEncoder()\n",
    "df_encoded_label = df.copy()\n",
    "df_encoded_label['2urvived'] = label_encoder.fit_transform(df_encoded_label['2urvived'])\n",
    "print(\"\\nLabelEncoder:\\n\", df_encoded_label.head())"
   ]
  },
  {
   "cell_type": "markdown",
   "id": "f1621da6-7bb6-477d-b402-071779eff1fb",
   "metadata": {},
   "source": [
    "##### Закодировать категориальные данные через OneHotEncoder;"
   ]
  },
  {
   "cell_type": "code",
   "execution_count": null,
   "id": "77ab2c34-0660-4877-b1d2-d9a3e138016d",
   "metadata": {},
   "outputs": [],
   "source": [
    "# -Закодируем \"Sex\" и \"Embarked\"\n",
    "# - Создадим sparse матрицу с кодированными данными\n",
    "onehot_encoder = OneHotEncoder(sparse_output=False, handle_unknown='ignore') \n",
    "encoded_features = onehot_encoder.fit_transform(df[['Sex', 'Embarked']]) \n",
    "print(\"\\nOneHotEncoder:\\n\", encoded_features[:5])"
   ]
  },
  {
   "cell_type": "markdown",
   "id": "db141ab0-c50e-4399-b52c-374ee15a2bdb",
   "metadata": {},
   "source": [
    "##### Преобразовать данные через StandardScaler;"
   ]
  },
  {
   "cell_type": "code",
   "execution_count": null,
   "id": "1f007ff3-500d-41bf-a67f-75aff1f6b076",
   "metadata": {},
   "outputs": [],
   "source": [
    "# -Создадим новый DataFrame с масштабированными данными\n",
    "scaler = StandardScaler()\n",
    "df_scaled = df.copy()\n",
    "df_scaled[['Age', 'Fare']] = scaler.fit_transform(df_scaled[['Age', 'Fare']])\n",
    "print(\"\\nStandardScaler:\\n\", df_scaled.head())"
   ]
  },
  {
   "cell_type": "markdown",
   "id": "234f2a7a-52f6-42c1-a294-68bc056b7988",
   "metadata": {},
   "source": [
    "##### Преобразовать данные через MinMaxScaler;"
   ]
  },
  {
   "cell_type": "code",
   "execution_count": null,
   "id": "4f4cc987-db91-40df-a8dc-1fc49920d623",
   "metadata": {},
   "outputs": [],
   "source": [
    "# -Преобразуем \"Age\" и \"Fare\"\n",
    "# - Создадим новый DataFrame с масштабированными данными\n",
    "minmax_scaler = MinMaxScaler()\n",
    "df_minmax_scaled = df.copy()\n",
    "df_minmax_scaled[['Age', 'Fare']] = minmax_scaler.fit_transform(df_minmax_scaled[['Age', 'Fare']])\n",
    "print(\"\\nMinMaxScaler:\\n\", df_minmax_scaled.head())"
   ]
  },
  {
   "cell_type": "markdown",
   "id": "eb741c10-f6e7-430f-a89a-f1ccd92c8a0f",
   "metadata": {},
   "source": [
    "##### Преобразовать данные через Normalizer;"
   ]
  },
  {
   "cell_type": "code",
   "execution_count": null,
   "id": "62784851-09b4-4b95-b844-895ca0727610",
   "metadata": {},
   "outputs": [],
   "source": [
    "# -Преобразуем \"Age\" и \"Fare\"\n",
    "# -Создадим новый DataFrame с нормализованными данными\n",
    "normalizer = Normalizer()\n",
    "df_normalized = df.copy()\n",
    "df_normalized[['Age', 'Fare']] = normalizer.fit_transform(df_normalized[['Age', 'Fare']])\n",
    "print(\"\\nNormalizer:\\n\", df_normalized.head())"
   ]
  },
  {
   "cell_type": "markdown",
   "id": "68856e1b-66f2-48fe-bcfc-92266b00aa3d",
   "metadata": {},
   "source": [
    "##### Сохранить закодированный датасет."
   ]
  },
  {
   "cell_type": "code",
   "execution_count": null,
   "id": "167734fe-12c2-4e18-aa61-28a756ad5b17",
   "metadata": {},
   "outputs": [],
   "source": [
    "df_scaled.to_csv('scaled_titanic.csv', index=False)"
   ]
  },
  {
   "cell_type": "markdown",
   "id": "02abcd6c-75f2-4aea-a785-fd584ea6a1dd",
   "metadata": {},
   "source": [
    "***Вывод:*** В процессе выполнения задания были изучены и применены на практике различные методы преобразования данных, включая кодирование категориальных признаков (OrdinalEncoder, LabelEncoder, OneHotEncoder) и масштабирование числовых признаков (StandardScaler, MinMaxScaler, Normalizer)."
   ]
  }
 ],
 "metadata": {
  "kernelspec": {
   "display_name": "Python 3 (ipykernel)",
   "language": "python",
   "name": "python3"
  },
  "language_info": {
   "codemirror_mode": {
    "name": "ipython",
    "version": 3
   },
   "file_extension": ".py",
   "mimetype": "text/x-python",
   "name": "python",
   "nbconvert_exporter": "python",
   "pygments_lexer": "ipython3",
   "version": "3.12.4"
  }
 },
 "nbformat": 4,
 "nbformat_minor": 5
}
